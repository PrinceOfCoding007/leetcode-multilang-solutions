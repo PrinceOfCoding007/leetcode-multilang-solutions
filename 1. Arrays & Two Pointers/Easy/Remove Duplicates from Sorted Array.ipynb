{
 "cells": [
  {
   "cell_type": "markdown",
   "id": "f86bf6cb",
   "metadata": {},
   "source": [
    "## 26. Remove Duplicates from Sorted Array\n",
    "\n",
    "# Difficulty: Easy\n",
    "Topics: Array, Two Pointers\n",
    "Companies: Amazon, Google, Microsoft, Facebook\n",
    "\n",
    "# Problem Statement\n",
    "\n",
    "Given an integer array nums sorted in non-decreasing order, remove the duplicates in-place such that each unique element appears only once.\n",
    "The relative order of the elements should be kept the same.\n",
    "\n",
    "Return the number of unique elements k such that the first k elements of nums contain the unique values in sorted order.\n",
    "\n",
    "- Example 1\n",
    "\n",
    "- Input:\n",
    "\n",
    "nums = [1,1,2]\n",
    "\n",
    "\n",
    "- Output:\n",
    "\n",
    "k = 2, nums = [1,2,_]\n",
    "\n",
    "\n",
    "- Explanation:\n",
    "Your function should return k = 2, with the first two elements of nums being 1 and 2 respectively.\n",
    "It does not matter what you leave beyond the returned length.\n",
    "\n",
    "# Example 2\n",
    "\n",
    "Input:\n",
    "\n",
    "nums = [0,0,1,1,1,2,2,3,3,4]\n",
    "\n",
    "\n",
    "Output:\n",
    "\n",
    "k = 5, nums = [0,1,2,3,4,_,_,_,_,_]\n",
    "\n",
    "# Explanation:\n",
    "Your function should return k = 5 with the first five elements being 0, 1, 2, 3, and 4.\n",
    "\n",
    "- Constraints\n",
    "\n",
    "1 <= nums.length <= 3 * 10⁴\n",
    "\n",
    "-100 <= nums[i] <= 100\n",
    "\n",
    "nums is sorted in non-decreasing order\n",
    "\n",
    "# Approach — Two Pointers\n",
    "\n",
    "Use two pointers:\n",
    "\n",
    "i → position of the last unique element\n",
    "\n",
    "j → iterates through the array\n",
    "\n",
    "Steps:\n",
    "\n",
    "Initialize i = 0.\n",
    "\n",
    "Iterate j from 1 to n - 1:\n",
    "\n",
    "If nums[j] != nums[i], increment i and set nums[i] = nums[j].\n",
    "\n",
    "Return i + 1 (the new length).\n",
    "\n",
    "This approach modifies the array in-place and uses O(1) extra space.\n",
    "\n",
    "# Complexity Analysis\n",
    "Complexity\tExplanation\n",
    "Time\tO(n) — single pass through the array\n",
    "Space\tO(1) — constant extra space"
   ]
  },
  {
   "cell_type": "markdown",
   "id": "79f58cf4",
   "metadata": {},
   "source": [
    "## Python"
   ]
  },
  {
   "cell_type": "code",
   "execution_count": null,
   "id": "6bdf77c2",
   "metadata": {
    "vscode": {
     "languageId": "plaintext"
    }
   },
   "outputs": [],
   "source": [
    "from typing import List\n",
    "\n",
    "class Solution:\n",
    "    def removeDuplicates(self, nums: List[int]) -> int:\n",
    "        if not nums:\n",
    "            return 0\n",
    "        \n",
    "        i = 0\n",
    "        for j in range(1, len(nums)):\n",
    "            if nums[j] != nums[i]:\n",
    "                i += 1\n",
    "                nums[i] = nums[j]\n",
    "        \n",
    "        return i + 1\n",
    "\n",
    "# Example usage:\n",
    "nums = [0,0,1,1,1,2,2,3,3,4]\n",
    "sol = Solution()\n",
    "k = sol.removeDuplicates(nums)\n",
    "print(\"k =\", k)\n",
    "print(\"Modified nums =\", nums[:k])\n"
   ]
  },
  {
   "cell_type": "markdown",
   "id": "9b33128d",
   "metadata": {},
   "source": [
    "## Java"
   ]
  },
  {
   "cell_type": "code",
   "execution_count": null,
   "id": "51946ea4",
   "metadata": {
    "vscode": {
     "languageId": "plaintext"
    }
   },
   "outputs": [],
   "source": [
    "class Solution {\n",
    "    public int removeDuplicates(int[] nums) {\n",
    "        if (nums.length == 0) return 0;\n",
    "        \n",
    "        int i = 0;\n",
    "        for (int j = 1; j < nums.length; j++) {\n",
    "            if (nums[j] != nums[i]) {\n",
    "                i++;\n",
    "                nums[i] = nums[j];\n",
    "            }\n",
    "        }\n",
    "        return i + 1;\n",
    "    }\n",
    "\n",
    "    public static void main(String[] args) {\n",
    "        Solution sol = new Solution();\n",
    "        int[] nums = {0,0,1,1,1,2,2,3,3,4};\n",
    "        int k = sol.removeDuplicates(nums);\n",
    "        System.out.println(\"k = \" + k);\n",
    "        System.out.print(\"Modified nums = [\");\n",
    "        for (int i = 0; i < k; i++) {\n",
    "            System.out.print(nums[i] + (i < k - 1 ? \", \" : \"\"));\n",
    "        }\n",
    "        System.out.println(\"]\");\n",
    "    }\n",
    "}\n"
   ]
  }
 ],
 "metadata": {
  "language_info": {
   "name": "python"
  }
 },
 "nbformat": 4,
 "nbformat_minor": 5
}
