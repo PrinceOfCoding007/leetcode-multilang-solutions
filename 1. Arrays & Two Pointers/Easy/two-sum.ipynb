{
 "cells": [
  {
   "cell_type": "markdown",
   "id": "f986c7de",
   "metadata": {},
   "source": [
    "# Two Sum\n",
    "\n",
    "**Difficulty:** Easy  \n",
    "**Topics:** Array, HashMap  \n",
    "**Companies:** Amazon, Google, Microsoft, Facebook\n",
    "\n",
    "---\n",
    "\n",
    "## Problem Statement\n",
    "\n",
    "Given an integer array `nums` and an integer `target`, return **indices of the two numbers** such that they add up to `target`.  \n",
    "\n",
    "You may assume that **each input has exactly one solution**, and you may not use the same element twice.  \n",
    "\n",
    "You can return the answer in **any order**.\n",
    "\n",
    "---\n",
    "\n",
    "## Examples\n",
    "\n",
    "**Example 1**  \n",
    "**Input:**  \n",
    "nums = [2,7,11,15], target = 9\n",
    "\n",
    "**Output:**  \n",
    "\n",
    "\n",
    "[0,1]\n",
    "\n",
    "**Explanation:** `nums[0] + nums[1] == 9`\n",
    "\n",
    "**Example 2**  \n",
    "**Input:**  \n",
    "\n",
    "\n",
    "nums = [3,2,4], target = 6\n",
    "\n",
    "**Output:**  \n",
    "\n",
    "\n",
    "[1,2]\n",
    "\n",
    "**Explanation:** `nums[1] + nums[2] == 6`\n",
    "\n",
    "**Example 3**  \n",
    "**Input:**  \n",
    "\n",
    "\n",
    "nums = [3,3], target = 6\n",
    "\n",
    "**Output:**  \n",
    "\n",
    "\n",
    "[0,1]\n",
    "\n",
    "**Explanation:** The two 3s at index 0 and 1 sum to the target.\n",
    "\n",
    "---\n",
    "\n",
    "## Constraints\n",
    "\n",
    "- `2 <= nums.length <= 10⁴`  \n",
    "- `-10⁹ <= nums[i] <= 10⁹`  \n",
    "- `-10⁹ <= target <= 10⁹`  \n",
    "- Exactly **one valid answer exists**.\n",
    "\n",
    "---\n",
    "\n",
    "## Approach\n",
    "\n",
    "### Brute Force (Not Recommended)\n",
    "\n",
    "- Check all pairs `(i, j)` to see if `nums[i] + nums[j] == target`.  \n",
    "- **Time Complexity:** O(n²)  \n",
    "- **Space Complexity:** O(1)\n",
    "\n",
    "### Optimized Approach (HashMap)\n",
    "\n",
    "1. Initialize a HashMap `map` to store `number → index`.  \n",
    "2. Iterate through `nums`:\n",
    "   - For `num = nums[i]`, compute `complement = target - num`.  \n",
    "   - If `complement` exists in `map`, return `[map[complement], i]`.  \n",
    "   - Otherwise, store `num` in `map` with its index.  \n",
    "3. Guarantees a **single pass solution** with O(n) time.\n",
    "\n",
    "---\n",
    "\n",
    "## Complexity\n",
    "\n",
    "- **Time Complexity:** O(n)  \n",
    "- **Space Complexity:** O(n)\n",
    "\n"
   ]
  },
  {
   "cell_type": "markdown",
   "id": "779376fe",
   "metadata": {},
   "source": [
    "## Python"
   ]
  },
  {
   "cell_type": "code",
   "execution_count": null,
   "id": "61189cc8",
   "metadata": {
    "vscode": {
     "languageId": "plaintext"
    }
   },
   "outputs": [],
   "source": [
    "from typing import List\n",
    "\n",
    "class Solution:\n",
    "    def twoSum(self, nums: List[int], target: int) -> List[int]:\n",
    "        hashmap = {}\n",
    "        for i, num in enumerate(nums):\n",
    "            complement = target - num\n",
    "            if complement in hashmap:\n",
    "                return [hashmap[complement], i]\n",
    "            hashmap[num] = i\n",
    "        return []"
   ]
  },
  {
   "cell_type": "markdown",
   "id": "e89e947f",
   "metadata": {},
   "source": [
    "## Java"
   ]
  },
  {
   "cell_type": "code",
   "execution_count": null,
   "id": "e6d12cb8",
   "metadata": {
    "vscode": {
     "languageId": "plaintext"
    }
   },
   "outputs": [],
   "source": [
    "import java.util.HashMap;\n",
    "\n",
    "class Solution {\n",
    "    public int[] twoSum(int[] nums, int target) {\n",
    "        HashMap<Integer, Integer> map = new HashMap<>();\n",
    "        for (int i = 0; i < nums.length; i++) {\n",
    "            int complement = target - nums[i];\n",
    "            if (map.containsKey(complement)) {\n",
    "                return new int[]{map.get(complement), i};\n",
    "            }\n",
    "            map.put(nums[i], i);\n",
    "        }\n",
    "        return new int[]{};\n",
    "    }\n",
    "}\n"
   ]
  },
  {
   "cell_type": "markdown",
   "id": "29050f56",
   "metadata": {},
   "source": [
    "## c#"
   ]
  },
  {
   "cell_type": "code",
   "execution_count": null,
   "id": "18c94b03",
   "metadata": {
    "vscode": {
     "languageId": "plaintext"
    }
   },
   "outputs": [],
   "source": [
    "using System;\n",
    "using System.Collections.Generic;\n",
    "\n",
    "public class Solution {\n",
    "    public int[] TwoSum(int[] nums, int target) {\n",
    "        Dictionary<int, int> map = new Dictionary<int, int>();\n",
    "        for (int i = 0; i < nums.Length; i++) {\n",
    "            int complement = target - nums[i];\n",
    "            if (map.ContainsKey(complement)) {\n",
    "                return new int[]{ map[complement], i };\n",
    "            }\n",
    "            map[nums[i]] = i;\n",
    "        }\n",
    "        return new int[]{};\n",
    "    }\n",
    "}\n"
   ]
  }
 ],
 "metadata": {
  "language_info": {
   "name": "python"
  }
 },
 "nbformat": 4,
 "nbformat_minor": 5
}
