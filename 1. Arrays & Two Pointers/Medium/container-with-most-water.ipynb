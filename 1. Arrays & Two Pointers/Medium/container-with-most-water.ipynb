{
 "cells": [
  {
   "cell_type": "markdown",
   "id": "1119fe1d",
   "metadata": {},
   "source": [
    "# Container With Most Water\n",
    "\n",
    "**Difficulty:** Medium  \n",
    "**Topics:** Two Pointers, Array  \n",
    "**Companies:** Amazon, Google, Microsoft  \n",
    "\n",
    "---\n",
    "\n",
    "## Problem Statement\n",
    "\n",
    "You are given an integer array `height` of length `n`.  \n",
    "There are `n` vertical lines drawn such that the two endpoints of the `iᵗʰ` line are `(i, 0)` and `(i, height[i])`.\n",
    "\n",
    "Find **two lines** that together with the x-axis form a container, such that the container contains the most water.\n",
    "\n",
    "Return the **maximum amount of water** a container can store.\n",
    "\n",
    "> **Note:** You may not slant the container.\n",
    "\n",
    "---\n",
    "\n",
    "## Example 1\n",
    "\n",
    "**Input:**  \n",
    "`height = [1,8,6,2,5,4,8,3,7]`  \n",
    "\n",
    "**Output:**  \n",
    "`49`  \n",
    "\n",
    "**Explanation:**  \n",
    "The above vertical lines are represented by array `[1,8,6,2,5,4,8,3,7]`.  \n",
    "In this case, the maximum area of water (blue section) that the container can contain is **49**.\n",
    "\n",
    "---\n",
    "\n",
    "## Example 2\n",
    "\n",
    "**Input:**  \n",
    "`height = [1,1]`  \n",
    "**Output:**  \n",
    "`1`\n",
    "\n",
    "---\n",
    "\n",
    "## Constraints\n",
    "\n",
    "- `n == height.length`  \n",
    "- `2 <= n <= 10⁵`  \n",
    "- `0 <= height[i] <= 10⁴`\n",
    "\n",
    "---\n",
    "\n",
    "## Approach\n",
    "\n",
    "- Use **two pointers** (`left` at start, `right` at end).\n",
    "- Calculate area using:\n",
    "- area = min(height[left], height[right]) * (right - left)\n",
    "- Move the pointer at the **smaller height** inward, since the limiting factor is the shorter wall.\n",
    "- Keep track of the **maximum area** found so far.\n",
    "\n",
    "---\n",
    "\n",
    "## ⏱️ Complexity\n",
    "\n",
    "- **Time Complexity:** O(n)  \n",
    "- **Space Complexity:** O(1)\n",
    "\n",
    "---"
   ]
  },
  {
   "cell_type": "markdown",
   "id": "fcc89deb",
   "metadata": {},
   "source": [
    "## 🐍 Python Solution"
   ]
  },
  {
   "cell_type": "code",
   "execution_count": null,
   "id": "6ed0e0ff",
   "metadata": {
    "vscode": {
     "languageId": "plaintext"
    }
   },
   "outputs": [],
   "source": [
    "%% python\n",
    "class Solution:\n",
    "  def maxArea(self, height: List[int]) -> int:\n",
    "      left, right = 0, len(height) - 1\n",
    "      maxArea = 0\n",
    "\n",
    "      while left < right:\n",
    "          current = min(height[left], height[right]) * (right - left)\n",
    "          maxArea = max(maxArea, current)\n",
    "\n",
    "          if height[left] < height[right]:\n",
    "              left += 1\n",
    "          else:\n",
    "              right -= 1\n",
    "\n",
    "      return maxArea"
   ]
  },
  {
   "cell_type": "markdown",
   "id": "c0f70fee",
   "metadata": {},
   "source": [
    "## Java Solution"
   ]
  },
  {
   "cell_type": "code",
   "execution_count": null,
   "id": "3f6ecf55",
   "metadata": {
    "vscode": {
     "languageId": "plaintext"
    }
   },
   "outputs": [],
   "source": [
    "import java.lang.Math;\n",
    "class Solution {\n",
    "    public int maxArea(int[] height) {\n",
    "        int left = 0;\n",
    "        int right = height.length - 1;\n",
    "        int maxArea = 0;\n",
    "        int currentArea = 0;\n",
    "        while(left < right){\n",
    "            currentArea = (int)(Math.min(height[left],height[right]) * (right - left));\n",
    "            maxArea = Math.max(currentArea,maxArea);\n",
    "            if (height[left] < height[right]){\n",
    "                left++;\n",
    "            }\n",
    "            else{\n",
    "                right--;\n",
    "            }\n",
    "\n",
    "        }\n",
    "        return maxArea;\n",
    "    }\n",
    "}"
   ]
  },
  {
   "cell_type": "markdown",
   "id": "bc407fc6",
   "metadata": {},
   "source": [
    "## C-sharp solution"
   ]
  },
  {
   "cell_type": "code",
   "execution_count": null,
   "id": "bd77e808",
   "metadata": {
    "vscode": {
     "languageId": "plaintext"
    }
   },
   "outputs": [],
   "source": [
    "public class Solution {\n",
    "    public int MaxArea(int[] height) {\n",
    "        int left = 0, right = height.Length - 1;\n",
    "        int maxArea = 0;\n",
    "\n",
    "        while (left < right) {\n",
    "            int current = Math.Min(height[left], height[right]) * (right - left);\n",
    "            maxArea = Math.Max(maxArea, current);\n",
    "\n",
    "            if (height[left] < height[right]) {\n",
    "                left++;\n",
    "            } else {\n",
    "                right--;\n",
    "            }\n",
    "        }\n",
    "        return maxArea;\n",
    "    }\n",
    "}\n"
   ]
  }
 ],
 "metadata": {
  "language_info": {
   "name": "python"
  }
 },
 "nbformat": 4,
 "nbformat_minor": 5
}
