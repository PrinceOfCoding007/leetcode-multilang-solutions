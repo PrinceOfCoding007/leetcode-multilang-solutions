{
 "cells": [
  {
   "cell_type": "markdown",
   "id": "65f2e832",
   "metadata": {},
   "source": [
    "## Daily LeetCode Progress Tracker\n",
    "\n",
    "Welcome to my LeetCode progress log!  \n",
    "This notebook tracks all problems I’ve solved in **Python**, **Java**, and **C#**.\n",
    "\n",
    "Each row below represents one problem, including:\n",
    "- Problem name (clickable link)\n",
    "- Difficulty\n",
    "- Status per language\n",
    "- Short notes or insights\n",
    "\n",
    "---\n",
    "\n",
    "**Goal:** Solve at least 1 problem daily  \n",
    "**Started:** October 2025  \n",
    "**Target:** 365 problems in 2026\n"
   ]
  },
  {
   "cell_type": "markdown",
   "id": "39ac9cd7",
   "metadata": {},
   "source": [
    "## Python Visualization Code"
   ]
  },
  {
   "cell_type": "markdown",
   "id": "a246c207",
   "metadata": {},
   "source": [
    "%pip install pandas jinja2 matplotlib"
   ]
  },
  {
   "cell_type": "code",
   "execution_count": 15,
   "id": "48160281",
   "metadata": {},
   "outputs": [
    {
     "data": {
      "text/html": [
       "<h3>📊 Progress Overview</h3>"
      ],
      "text/plain": [
       "<IPython.core.display.HTML object>"
      ]
     },
     "metadata": {},
     "output_type": "display_data"
    },
    {
     "data": {
      "text/html": [
       "<style type=\"text/css\">\n",
       "#T_83741 th {\n",
       "  background-color: #1f77b4;\n",
       "  color: white;\n",
       "  text-align: center;\n",
       "}\n",
       "#T_83741 td {\n",
       "  text-align: center;\n",
       "}\n",
       "#T_83741_row0_col0, #T_83741_row0_col1, #T_83741_row0_col2, #T_83741_row0_col3, #T_83741_row0_col4, #T_83741_row0_col5, #T_83741_row0_col6, #T_83741_row0_col7, #T_83741_row0_col8 {\n",
       "  font-family: Segoe UI, sans-serif;\n",
       "  font-size: 14px;\n",
       "  border: 1px solid #ddd;\n",
       "  padding: 6px;\n",
       "}\n",
       "</style>\n",
       "<table id=\"T_83741\">\n",
       "  <thead>\n",
       "    <tr>\n",
       "      <th id=\"T_83741_level0_col0\" class=\"col_heading level0 col0\" >Date</th>\n",
       "      <th id=\"T_83741_level0_col1\" class=\"col_heading level0 col1\" >Problem</th>\n",
       "      <th id=\"T_83741_level0_col2\" class=\"col_heading level0 col2\" >Difficulty</th>\n",
       "      <th id=\"T_83741_level0_col3\" class=\"col_heading level0 col3\" >Python</th>\n",
       "      <th id=\"T_83741_level0_col4\" class=\"col_heading level0 col4\" >Java</th>\n",
       "      <th id=\"T_83741_level0_col5\" class=\"col_heading level0 col5\" >CSharp</th>\n",
       "      <th id=\"T_83741_level0_col6\" class=\"col_heading level0 col6\" >Notes</th>\n",
       "      <th id=\"T_83741_level0_col7\" class=\"col_heading level0 col7\" >Link</th>\n",
       "      <th id=\"T_83741_level0_col8\" class=\"col_heading level0 col8\" >Solved</th>\n",
       "    </tr>\n",
       "  </thead>\n",
       "  <tbody>\n",
       "    <tr>\n",
       "      <td id=\"T_83741_row0_col0\" class=\"data row0 col0\" >07-10-2025</td>\n",
       "      <td id=\"T_83741_row0_col1\" class=\"data row0 col1\" >Container With Most Water</td>\n",
       "      <td id=\"T_83741_row0_col2\" class=\"data row0 col2\" >Medium</td>\n",
       "      <td id=\"T_83741_row0_col3\" class=\"data row0 col3\" >Done</td>\n",
       "      <td id=\"T_83741_row0_col4\" class=\"data row0 col4\" >Done</td>\n",
       "      <td id=\"T_83741_row0_col5\" class=\"data row0 col5\" >Done</td>\n",
       "      <td id=\"T_83741_row0_col6\" class=\"data row0 col6\" >Practiced two-pointer</td>\n",
       "      <td id=\"T_83741_row0_col7\" class=\"data row0 col7\" >https://leetcode.com/problems/container-with-most-water/</td>\n",
       "      <td id=\"T_83741_row0_col8\" class=\"data row0 col8\" >Done</td>\n",
       "    </tr>\n",
       "  </tbody>\n",
       "</table>\n"
      ],
      "text/plain": [
       "<pandas.io.formats.style.Styler at 0x1d3daa03170>"
      ]
     },
     "metadata": {},
     "output_type": "display_data"
    }
   ],
   "source": [
    "import pandas as pd\n",
    "from IPython.display import display, HTML\n",
    "\n",
    "# Load progress data\n",
    "df = pd.read_csv('progress.csv')\n",
    "\n",
    "# Add emoji summary columns (optional)\n",
    "df['Solved'] = df.apply(lambda row: 'Done' if row['Python'] == 'Done' and row['Java'] == 'Done' and row['CSharp'] == 'Done' else '', axis=1)\n",
    "\n",
    "# Display formatted table\n",
    "styled = df.style.hide(axis='index').set_table_styles(\n",
    "    [{\n",
    "        'selector': 'th',\n",
    "        'props': [('background-color', '#1f77b4'), ('color', 'white'), ('text-align', 'center')]\n",
    "    },\n",
    "    {\n",
    "        'selector': 'td',\n",
    "        'props': [('text-align', 'center')]\n",
    "    }]\n",
    ").set_properties(**{\n",
    "    'font-family': 'Segoe UI, sans-serif',\n",
    "    'font-size': '14px',\n",
    "    'border': '1px solid #ddd',\n",
    "    'padding': '6px'\n",
    "})\n",
    "\n",
    "display(HTML('<h3>📊 Progress Overview</h3>'))\n",
    "display(styled)\n"
   ]
  },
  {
   "cell_type": "code",
   "execution_count": 16,
   "id": "40bcc517",
   "metadata": {},
   "outputs": [
    {
     "data": {
      "text/html": [
       "<h3>📈 Problems Solved by Difficulty</h3>"
      ],
      "text/plain": [
       "<IPython.core.display.HTML object>"
      ]
     },
     "metadata": {},
     "output_type": "display_data"
    },
    {
     "data": {
      "text/html": [
       "<div>\n",
       "<style scoped>\n",
       "    .dataframe tbody tr th:only-of-type {\n",
       "        vertical-align: middle;\n",
       "    }\n",
       "\n",
       "    .dataframe tbody tr th {\n",
       "        vertical-align: top;\n",
       "    }\n",
       "\n",
       "    .dataframe thead th {\n",
       "        text-align: right;\n",
       "    }\n",
       "</style>\n",
       "<table border=\"1\" class=\"dataframe\">\n",
       "  <thead>\n",
       "    <tr style=\"text-align: right;\">\n",
       "      <th></th>\n",
       "      <th>Difficulty</th>\n",
       "      <th>Count</th>\n",
       "    </tr>\n",
       "  </thead>\n",
       "  <tbody>\n",
       "    <tr>\n",
       "      <th>0</th>\n",
       "      <td>Medium</td>\n",
       "      <td>1</td>\n",
       "    </tr>\n",
       "  </tbody>\n",
       "</table>\n",
       "</div>"
      ],
      "text/plain": [
       "  Difficulty  Count\n",
       "0     Medium      1"
      ]
     },
     "metadata": {},
     "output_type": "display_data"
    }
   ],
   "source": [
    "# Summary by difficulty\n",
    "summary = df.groupby('Difficulty')['Problem'].count().reset_index()\n",
    "summary.columns = ['Difficulty', 'Count']\n",
    "\n",
    "display(HTML('<h3>📈 Problems Solved by Difficulty</h3>'))\n",
    "display(summary)\n"
   ]
  },
  {
   "cell_type": "code",
   "execution_count": 21,
   "id": "e546498f",
   "metadata": {},
   "outputs": [
    {
     "data": {
      "image/png": "[encoded data removed]",
      "text/plain": [
       "<Figure size 800x500 with 1 Axes>"
      ]
     },
     "metadata": {},
     "output_type": "display_data"
    },
    {
     "data": {
      "image/png": "[encoded data removed]",
      "text/plain": [
       "<Figure size 640x480 with 1 Axes>"
      ]
     },
     "metadata": {},
     "output_type": "display_data"
    }
   ],
   "source": [
    "import matplotlib.pyplot as plt\n",
    "\n",
    "# Define colors for difficulties\n",
    "colors = ['#2ca02c', '#ff7f0e', '#d62728']  # green, orange, red\n",
    "\n",
    "# Create figure and axis\n",
    "fig, ax = plt.subplots(figsize=(8,5))\n",
    "\n",
    "# Plot bars\n",
    "bars = ax.bar(summary['Difficulty'], summary['Count'], color=colors)\n",
    "\n",
    "# Add value labels on top of each bar\n",
    "for bar in bars:\n",
    "    height = bar.get_height()\n",
    "    ax.annotate(f'{height}',\n",
    "                xy=(bar.get_x() + bar.get_width() / 2, height),\n",
    "                xytext=(0, 5),  # offset\n",
    "                textcoords='offset points',\n",
    "                ha='center', va='bottom', fontsize=12, fontweight='bold')\n",
    "\n",
    "# Titles and labels\n",
    "ax.set_title('Problems Solved by Difficulty', fontsize=14, fontweight='bold')\n",
    "ax.set_ylabel('Count', fontsize=12)\n",
    "ax.set_xlabel('Difficulty', fontsize=12)\n",
    "ax.grid(axis='y', linestyle='--', alpha=0.7)\n",
    "\n",
    "# Optional: remove top and right spines for cleaner look\n",
    "ax.spines['top'].set_visible(False)\n",
    "ax.spines['right'].set_visible(False)\n",
    "\n",
    "plt.show()\n",
    "ax.barh(summary['Difficulty'], summary['Count'], color=colors)\n",
    "plt.pie(summary['Count'], labels=summary['Difficulty'], autopct='%1.1f%%', colors=colors, startangle=140)\n",
    "plt.title('Problems Solved by Difficulty', fontsize=14)\n",
    "plt.show()\n"
   ]
  }
 ],
 "metadata": {
  "kernelspec": {
   "display_name": "Python 3",
   "language": "python",
   "name": "python3"
  },
  "language_info": {
   "codemirror_mode": {
    "name": "ipython",
    "version": 3
   },
   "file_extension": ".py",
   "mimetype": "text/x-python",
   "name": "python",
   "nbconvert_exporter": "python",
   "pygments_lexer": "ipython3",
   "version": "3.12.10"
  }
 },
 "nbformat": 4,
 "nbformat_minor": 5
}
